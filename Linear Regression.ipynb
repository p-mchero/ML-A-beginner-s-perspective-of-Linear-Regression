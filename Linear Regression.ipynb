{
 "cells": [
  {
   "cell_type": "markdown",
   "metadata": {},
   "source": [
    "# Linear Regression \n",
    "Written by: Paul Treve (Email: trevepaul2@gmail.com)\n",
    "\n",
    "Note: Based on the data provided, an accurate hypothesis should be $h_{\\theta}(x^{(i)})=X\\theta=1.5+2x_{1}^{(i)}+x_{2}^{(i)}$\n",
    "$$\\theta = \\left(\\begin{array}{cc} 1.5\\\\2\\\\1\\end{array}\\right)$$"
   ]
  },
  {
   "cell_type": "code",
   "execution_count": 1,
   "metadata": {},
   "outputs": [],
   "source": [
    "import numpy as np\n",
    "import pandas as pd\n",
    "from matplotlib import pyplot as plt\n",
    "\n",
    "%matplotlib inline"
   ]
  },
  {
   "cell_type": "markdown",
   "metadata": {},
   "source": [
    "## Finding the parameters of hypothesis using gradient descent"
   ]
  },
  {
   "cell_type": "markdown",
   "metadata": {},
   "source": [
    "### Handling the data from the csv file into arrays I can work with"
   ]
  },
  {
   "cell_type": "code",
   "execution_count": 2,
   "metadata": {},
   "outputs": [],
   "source": [
    "# loading the data from the csv file\n",
    "raw_data = pd.read_csv('data.csv')\n",
    "\n",
    "m = len(raw_data) # number of training examples\n",
    "n = 2 # number of features\n",
    "\n",
    "# assuming the hypothesis is of the form X*theta where X is an m by n matrix and theta, an n by 1 matrix\n",
    "feature1 = np.array(raw_data['X']) #x1\n",
    "feature2 = np.array(raw_data['Y']) #x2\n",
    "\n",
    "X = np.array([\n",
    "    np.ones(m),    # x0 is 1\n",
    "    feature1,\n",
    "    feature2\n",
    "]).transpose()\n",
    "\n",
    "Y = np.array([[z] for z in np.array(raw_data['Z'])]) # correct results\n",
    "\n",
    "# initializing theta as an n by 1 matrix made up of only ones\n",
    "theta = np.array([[1] for _ in range(3)])"
   ]
  },
  {
   "cell_type": "markdown",
   "metadata": {},
   "source": [
    "#### What is X?\n",
    "X is the design matrix of $m$ rows and $(n+1)$ columns. An $m\\times(n+1)$ matrix with each row representing a training example of the dataset."
   ]
  },
  {
   "cell_type": "code",
   "execution_count": 3,
   "metadata": {},
   "outputs": [
    {
     "data": {
      "text/plain": [
       "array([[1., 2., 3.],\n",
       "       [1., 1., 2.],\n",
       "       [1., 4., 1.],\n",
       "       [1., 3., 2.],\n",
       "       [1., 2., 1.]])"
      ]
     },
     "execution_count": 3,
     "metadata": {},
     "output_type": "execute_result"
    }
   ],
   "source": [
    "X[:5] # first 5 rows of X"
   ]
  },
  {
   "cell_type": "markdown",
   "metadata": {},
   "source": [
    "#### What is Y?\n",
    "Y is an $m$ dimensional vector. An $m\\times1$ matrix with each element corresponding to the expected result of a specific training example of the dataset."
   ]
  },
  {
   "cell_type": "code",
   "execution_count": 4,
   "metadata": {},
   "outputs": [
    {
     "data": {
      "text/plain": [
       "array([[ 8.5],\n",
       "       [ 5.5],\n",
       "       [10.5],\n",
       "       [ 9.5],\n",
       "       [ 6.5]])"
      ]
     },
     "execution_count": 4,
     "metadata": {},
     "output_type": "execute_result"
    }
   ],
   "source": [
    "Y[:5] # first 5 elements of Y"
   ]
  },
  {
   "cell_type": "markdown",
   "metadata": {},
   "source": [
    "### The Hypothesis - $h_{\\theta}(x^{(i)})$\n",
    "Instead of taking each feature, $x_{n}^{(i)}$, one at a time in a training example to multiply with its corresponding $\\theta_{j}$, a more conservative way to do this is to vectorize the $\\theta$. Making $\\theta$ an $(n+1)$ dimensional vector, with the first element being the constant term in the expression $h_{\\theta}(x^{(i)}) = \\theta_{0} + \\theta_{1}x_{1}^{(i)} + \\theta_{2}x_{2}^{(i)} + ... + \\theta_{n}x_{n}^{(i)}$ and the rest of the elements being the coefficients of $x_{1}^{(i)}, x_{2}^{(i)}, ..., x_{n}^{(i)}$ where $n$ is the number of features of each training example. Multiplying the design matrix, X (an $m\\times(n+1)$ matrix), by $\\theta$ will produce an $m$ dimensional vector(an $m\\times1$ matrix). This vector contains the predictions of the hypothesis.\n",
    "$$h_{\\theta}(x^{(i)})=X\\theta$$"
   ]
  },
  {
   "cell_type": "code",
   "execution_count": 5,
   "metadata": {},
   "outputs": [],
   "source": [
    "def hypothesis():\n",
    "    return X @ theta # matrix product of X and theta"
   ]
  },
  {
   "cell_type": "markdown",
   "metadata": {},
   "source": [
    "After some trials, a learning rate of $0.01$ is enough for the gradient descent."
   ]
  },
  {
   "cell_type": "code",
   "execution_count": 6,
   "metadata": {},
   "outputs": [],
   "source": [
    "# the learning rate\n",
    "alpha = 0.01"
   ]
  },
  {
   "cell_type": "markdown",
   "metadata": {},
   "source": [
    "### The Cost Function for Linear Regression\n",
    "$$J(\\theta)=\\frac{1}{2m}\\sum_{i=1}^{m}(h_{\\theta}(x^{(i)}) - y^{(i)})^{2}$$"
   ]
  },
  {
   "cell_type": "code",
   "execution_count": 7,
   "metadata": {},
   "outputs": [],
   "source": [
    "def cost():\n",
    "    return (1/(2*m))*(((hypothesis() - Y) ** 2).sum())"
   ]
  },
  {
   "cell_type": "markdown",
   "metadata": {},
   "source": [
    "### The Gradient Descent\n",
    "$$\\theta_{j}:=\\theta_{j}-\\alpha\\frac{\\partial}{\\partial\\theta_{j}}J(\\theta)$$\n",
    "But since I have decided to vectorize the $\\theta$, I can think of the gradient descent as:\n",
    "$$\\theta:=\\theta-\\alpha\\delta$$\n",
    "where $\\delta$ is representing the partial derivative of each of elements of $\\theta$. $\\delta$ will be an $(n+1)$ dimensional vector given by:\n",
    "$$\\delta=\\frac{1}{m}\\sum_{i=1}^{m}(h_{\\theta}(x^{(i)})-y^{(i)})x^{(i)}$$"
   ]
  },
  {
   "cell_type": "markdown",
   "metadata": {},
   "source": [
    "The function in the cell below does the update of the theta as it should be done - simultaneously."
   ]
  },
  {
   "cell_type": "code",
   "execution_count": 8,
   "metadata": {},
   "outputs": [],
   "source": [
    "def new_theta():\n",
    "    x0 = np.array([[u] for u in X.transpose()[0]])\n",
    "    x1 = np.array([[u] for u in X.transpose()[1]])\n",
    "    x2 = np.array([[u] for u in X.transpose()[2]])\n",
    "    # computing the elements of the delta vector\n",
    "    delta0 = (1/m)*(((hypothesis() - Y)*x0).sum())\n",
    "    delta1 = (1/m)*(((hypothesis() - Y)*x1).sum())\n",
    "    delta2 = (1/m)*(((hypothesis() - Y)*x2).sum())\n",
    "    # computing the new values for the elements of theta\n",
    "    return np.array([\n",
    "        [theta[0, 0] - (alpha*delta0)],\n",
    "        [theta[1, 0] - (alpha*delta1)],\n",
    "        [theta[2, 0] - (alpha*delta2)]\n",
    "    ])"
   ]
  },
  {
   "cell_type": "markdown",
   "metadata": {},
   "source": [
    "A while loop to update the theta and keep the gradient descent going until the cost is minimal"
   ]
  },
  {
   "cell_type": "code",
   "execution_count": 9,
   "metadata": {},
   "outputs": [
    {
     "name": "stdout",
     "output_type": "stream",
     "text": [
      "Success.\n"
     ]
    }
   ],
   "source": [
    "costs = np.array([])\n",
    "number_of_steps = 0\n",
    "while True:\n",
    "    # keeping track of the number of steps and the gradient descent at each step\n",
    "    # this is to help plot a graph of cost against number of steps\n",
    "    # to show that the gradient descent actually worked\n",
    "    number_of_steps += 1\n",
    "    costs = np.append(costs, cost())\n",
    "    # calculation of accuracy of model in terms of MSE\n",
    "    mean_sq_error = 2*cost()\n",
    "    # making sure the cost is minimun\n",
    "    if cost() < 10**(-20):\n",
    "        print(\"Success.\")\n",
    "        break\n",
    "    # updating the theta simultaneously\n",
    "    theta = new_theta()"
   ]
  },
  {
   "cell_type": "code",
   "execution_count": 10,
   "metadata": {},
   "outputs": [
    {
     "name": "stdout",
     "output_type": "stream",
     "text": [
      "Results\n",
      "----------------\n",
      "Theta:\n",
      " [[1.5]\n",
      " [2. ]\n",
      " [1. ]]\n",
      "Mean Squared Error(MSE):  0.000000000000000\n"
     ]
    }
   ],
   "source": [
    "# printing out results on the screen\n",
    "print(\"Results\\n----------------\")\n",
    "print(f\"Theta:\\n {theta}\\nMean Squared Error(MSE): {mean_sq_error: .15f}\")"
   ]
  },
  {
   "cell_type": "code",
   "execution_count": 11,
   "metadata": {},
   "outputs": [
    {
     "data": {
      "text/plain": [
       "Text(0, 0.5, 'Costs')"
      ]
     },
     "execution_count": 11,
     "metadata": {},
     "output_type": "execute_result"
    },
    {
     "data": {
      "image/png": "[encoded data removed]",
      "text/plain": [
       "<Figure size 432x288 with 2 Axes>"
      ]
     },
     "metadata": {
      "needs_background": "light"
     },
     "output_type": "display_data"
    }
   ],
   "source": [
    "# This is a plot of costs against number of steps taken in gradient descent.\n",
    "# The nature of the graph determines the success of the gradient descent.\n",
    "plt.subplot(221)\n",
    "plt.plot(range(number_of_steps), costs, '.-r')\n",
    "plt.xlabel('Number of steps')\n",
    "plt.ylabel('Costs')\n",
    "plt.title('A plot of Costs against the number of steps')\n",
    "plt.subplot(222)\n",
    "plt.plot(range(50), costs[:50], '.-g')\n",
    "plt.xlabel('Number of steps')\n",
    "plt.ylabel('Costs')"
   ]
  },
  {
   "cell_type": "markdown",
   "metadata": {},
   "source": [
    "## Finding the parameters of hypothesis using the Normal Equation"
   ]
  },
  {
   "cell_type": "markdown",
   "metadata": {},
   "source": [
    "### Handling the data from the csv file into arrays I can work with"
   ]
  },
  {
   "cell_type": "code",
   "execution_count": 12,
   "metadata": {},
   "outputs": [],
   "source": [
    "data = pd.read_csv('data.csv')\n",
    "x_feature = np.array(data['X'])\n",
    "y_feature = np.array(data['Y'])\n",
    "\n",
    "Y = np.array([[z] for z in data['Z']])\n",
    "\n",
    "X = np.array([\n",
    "    np.ones(len(x_feature)),\n",
    "    x_feature,\n",
    "    y_feature\n",
    "]).transpose()"
   ]
  },
  {
   "cell_type": "markdown",
   "metadata": {},
   "source": [
    "#### What is X?\n",
    "X is the design matrix of $m$ rows and $(n+1)$ columns. An $m\\times(n+1)$ matrix with each row representing a training example of the dataset."
   ]
  },
  {
   "cell_type": "code",
   "execution_count": 13,
   "metadata": {},
   "outputs": [
    {
     "data": {
      "text/plain": [
       "array([[1., 2., 3.],\n",
       "       [1., 1., 2.],\n",
       "       [1., 4., 1.]])"
      ]
     },
     "execution_count": 13,
     "metadata": {},
     "output_type": "execute_result"
    }
   ],
   "source": [
    "X[:3] # first 3 rows of X"
   ]
  },
  {
   "cell_type": "markdown",
   "metadata": {},
   "source": [
    "#### What is Y?\n",
    "Y is an $m$ dimensional vector. An $m\\times1$ matrix with each element corresponding to the expected result of a specific training example of the dataset."
   ]
  },
  {
   "cell_type": "code",
   "execution_count": 14,
   "metadata": {},
   "outputs": [
    {
     "data": {
      "text/plain": [
       "array([[ 8.5],\n",
       "       [ 5.5],\n",
       "       [10.5]])"
      ]
     },
     "execution_count": 14,
     "metadata": {},
     "output_type": "execute_result"
    }
   ],
   "source": [
    "Y[:3] # first 3 elements of Y"
   ]
  },
  {
   "cell_type": "markdown",
   "metadata": {},
   "source": [
    "### The normal equation\n",
    "The normal equation is given by:\n",
    "$$\\theta = (X^{T}X)^{-1}X^{T}Y$$"
   ]
  },
  {
   "cell_type": "code",
   "execution_count": 15,
   "metadata": {},
   "outputs": [],
   "source": [
    "theta = np.linalg.inv(X.transpose() @ X) @ X.transpose() @ Y"
   ]
  },
  {
   "cell_type": "code",
   "execution_count": 16,
   "metadata": {},
   "outputs": [
    {
     "name": "stdout",
     "output_type": "stream",
     "text": [
      "Results\n",
      "----------------\n",
      "Theta:\n",
      " [[1.5]\n",
      " [2. ]\n",
      " [1. ]]\n"
     ]
    }
   ],
   "source": [
    "# printing out results on the screen\n",
    "print(\"Results\\n----------------\")\n",
    "print(f\"Theta:\\n {theta}\")"
   ]
  },
  {
   "cell_type": "markdown",
   "metadata": {},
   "source": [
    "## The Data used for the aboves codes"
   ]
  },
  {
   "cell_type": "code",
   "execution_count": 17,
   "metadata": {},
   "outputs": [],
   "source": [
    "Data = pd.read_csv('data.csv')"
   ]
  },
  {
   "cell_type": "code",
   "execution_count": 18,
   "metadata": {},
   "outputs": [
    {
     "data": {
      "text/plain": [
       "(15, 3)"
      ]
     },
     "execution_count": 18,
     "metadata": {},
     "output_type": "execute_result"
    }
   ],
   "source": [
    "Data.shape"
   ]
  },
  {
   "cell_type": "code",
   "execution_count": 19,
   "metadata": {},
   "outputs": [
    {
     "name": "stdout",
     "output_type": "stream",
     "text": [
      "<class 'pandas.core.frame.DataFrame'>\n",
      "RangeIndex: 15 entries, 0 to 14\n",
      "Data columns (total 3 columns):\n",
      " #   Column  Non-Null Count  Dtype  \n",
      "---  ------  --------------  -----  \n",
      " 0   X       15 non-null     int64  \n",
      " 1   Y       15 non-null     int64  \n",
      " 2   Z       15 non-null     float64\n",
      "dtypes: float64(1), int64(2)\n",
      "memory usage: 488.0 bytes\n"
     ]
    }
   ],
   "source": [
    "Data.info()"
   ]
  },
  {
   "cell_type": "code",
   "execution_count": 20,
   "metadata": {},
   "outputs": [
    {
     "data": {
      "text/html": [
       "<div>\n",
       "<style scoped>\n",
       "    .dataframe tbody tr th:only-of-type {\n",
       "        vertical-align: middle;\n",
       "    }\n",
       "\n",
       "    .dataframe tbody tr th {\n",
       "        vertical-align: top;\n",
       "    }\n",
       "\n",
       "    .dataframe thead th {\n",
       "        text-align: right;\n",
       "    }\n",
       "</style>\n",
       "<table border=\"1\" class=\"dataframe\">\n",
       "  <thead>\n",
       "    <tr style=\"text-align: right;\">\n",
       "      <th></th>\n",
       "      <th>X</th>\n",
       "      <th>Y</th>\n",
       "      <th>Z</th>\n",
       "    </tr>\n",
       "  </thead>\n",
       "  <tbody>\n",
       "    <tr>\n",
       "      <th>count</th>\n",
       "      <td>15.000000</td>\n",
       "      <td>15.000000</td>\n",
       "      <td>15.000000</td>\n",
       "    </tr>\n",
       "    <tr>\n",
       "      <th>mean</th>\n",
       "      <td>2.466667</td>\n",
       "      <td>2.533333</td>\n",
       "      <td>8.966667</td>\n",
       "    </tr>\n",
       "    <tr>\n",
       "      <th>std</th>\n",
       "      <td>1.060099</td>\n",
       "      <td>1.187234</td>\n",
       "      <td>2.503331</td>\n",
       "    </tr>\n",
       "    <tr>\n",
       "      <th>min</th>\n",
       "      <td>1.000000</td>\n",
       "      <td>1.000000</td>\n",
       "      <td>4.500000</td>\n",
       "    </tr>\n",
       "    <tr>\n",
       "      <th>25%</th>\n",
       "      <td>2.000000</td>\n",
       "      <td>1.500000</td>\n",
       "      <td>7.500000</td>\n",
       "    </tr>\n",
       "    <tr>\n",
       "      <th>50%</th>\n",
       "      <td>2.000000</td>\n",
       "      <td>3.000000</td>\n",
       "      <td>8.500000</td>\n",
       "    </tr>\n",
       "    <tr>\n",
       "      <th>75%</th>\n",
       "      <td>3.000000</td>\n",
       "      <td>3.500000</td>\n",
       "      <td>10.500000</td>\n",
       "    </tr>\n",
       "    <tr>\n",
       "      <th>max</th>\n",
       "      <td>4.000000</td>\n",
       "      <td>4.000000</td>\n",
       "      <td>13.500000</td>\n",
       "    </tr>\n",
       "  </tbody>\n",
       "</table>\n",
       "</div>"
      ],
      "text/plain": [
       "               X          Y          Z\n",
       "count  15.000000  15.000000  15.000000\n",
       "mean    2.466667   2.533333   8.966667\n",
       "std     1.060099   1.187234   2.503331\n",
       "min     1.000000   1.000000   4.500000\n",
       "25%     2.000000   1.500000   7.500000\n",
       "50%     2.000000   3.000000   8.500000\n",
       "75%     3.000000   3.500000  10.500000\n",
       "max     4.000000   4.000000  13.500000"
      ]
     },
     "execution_count": 20,
     "metadata": {},
     "output_type": "execute_result"
    }
   ],
   "source": [
    "Data.describe()"
   ]
  },
  {
   "cell_type": "markdown",
   "metadata": {},
   "source": [
    "### The full data"
   ]
  },
  {
   "cell_type": "code",
   "execution_count": 21,
   "metadata": {},
   "outputs": [
    {
     "data": {
      "text/html": [
       "<div>\n",
       "<style scoped>\n",
       "    .dataframe tbody tr th:only-of-type {\n",
       "        vertical-align: middle;\n",
       "    }\n",
       "\n",
       "    .dataframe tbody tr th {\n",
       "        vertical-align: top;\n",
       "    }\n",
       "\n",
       "    .dataframe thead th {\n",
       "        text-align: right;\n",
       "    }\n",
       "</style>\n",
       "<table border=\"1\" class=\"dataframe\">\n",
       "  <thead>\n",
       "    <tr style=\"text-align: right;\">\n",
       "      <th></th>\n",
       "      <th>X</th>\n",
       "      <th>Y</th>\n",
       "      <th>Z</th>\n",
       "    </tr>\n",
       "  </thead>\n",
       "  <tbody>\n",
       "    <tr>\n",
       "      <th>0</th>\n",
       "      <td>2</td>\n",
       "      <td>3</td>\n",
       "      <td>8.5</td>\n",
       "    </tr>\n",
       "    <tr>\n",
       "      <th>1</th>\n",
       "      <td>1</td>\n",
       "      <td>2</td>\n",
       "      <td>5.5</td>\n",
       "    </tr>\n",
       "    <tr>\n",
       "      <th>2</th>\n",
       "      <td>4</td>\n",
       "      <td>1</td>\n",
       "      <td>10.5</td>\n",
       "    </tr>\n",
       "    <tr>\n",
       "      <th>3</th>\n",
       "      <td>3</td>\n",
       "      <td>2</td>\n",
       "      <td>9.5</td>\n",
       "    </tr>\n",
       "    <tr>\n",
       "      <th>4</th>\n",
       "      <td>2</td>\n",
       "      <td>1</td>\n",
       "      <td>6.5</td>\n",
       "    </tr>\n",
       "    <tr>\n",
       "      <th>5</th>\n",
       "      <td>2</td>\n",
       "      <td>2</td>\n",
       "      <td>7.5</td>\n",
       "    </tr>\n",
       "    <tr>\n",
       "      <th>6</th>\n",
       "      <td>1</td>\n",
       "      <td>4</td>\n",
       "      <td>7.5</td>\n",
       "    </tr>\n",
       "    <tr>\n",
       "      <th>7</th>\n",
       "      <td>3</td>\n",
       "      <td>3</td>\n",
       "      <td>10.5</td>\n",
       "    </tr>\n",
       "    <tr>\n",
       "      <th>8</th>\n",
       "      <td>1</td>\n",
       "      <td>1</td>\n",
       "      <td>4.5</td>\n",
       "    </tr>\n",
       "    <tr>\n",
       "      <th>9</th>\n",
       "      <td>3</td>\n",
       "      <td>4</td>\n",
       "      <td>11.5</td>\n",
       "    </tr>\n",
       "    <tr>\n",
       "      <th>10</th>\n",
       "      <td>4</td>\n",
       "      <td>4</td>\n",
       "      <td>13.5</td>\n",
       "    </tr>\n",
       "    <tr>\n",
       "      <th>11</th>\n",
       "      <td>3</td>\n",
       "      <td>1</td>\n",
       "      <td>8.5</td>\n",
       "    </tr>\n",
       "    <tr>\n",
       "      <th>12</th>\n",
       "      <td>2</td>\n",
       "      <td>3</td>\n",
       "      <td>8.5</td>\n",
       "    </tr>\n",
       "    <tr>\n",
       "      <th>13</th>\n",
       "      <td>2</td>\n",
       "      <td>4</td>\n",
       "      <td>9.5</td>\n",
       "    </tr>\n",
       "    <tr>\n",
       "      <th>14</th>\n",
       "      <td>4</td>\n",
       "      <td>3</td>\n",
       "      <td>12.5</td>\n",
       "    </tr>\n",
       "  </tbody>\n",
       "</table>\n",
       "</div>"
      ],
      "text/plain": [
       "    X  Y     Z\n",
       "0   2  3   8.5\n",
       "1   1  2   5.5\n",
       "2   4  1  10.5\n",
       "3   3  2   9.5\n",
       "4   2  1   6.5\n",
       "5   2  2   7.5\n",
       "6   1  4   7.5\n",
       "7   3  3  10.5\n",
       "8   1  1   4.5\n",
       "9   3  4  11.5\n",
       "10  4  4  13.5\n",
       "11  3  1   8.5\n",
       "12  2  3   8.5\n",
       "13  2  4   9.5\n",
       "14  4  3  12.5"
      ]
     },
     "execution_count": 21,
     "metadata": {},
     "output_type": "execute_result"
    }
   ],
   "source": [
    "Data"
   ]
  }
 ],
 "metadata": {
  "kernelspec": {
   "display_name": "Python ML",
   "language": "python",
   "name": "ml"
  },
  "language_info": {
   "codemirror_mode": {
    "name": "ipython",
    "version": 3
   },
   "file_extension": ".py",
   "mimetype": "text/x-python",
   "name": "python",
   "nbconvert_exporter": "python",
   "pygments_lexer": "ipython3",
   "version": "3.8.5"
  }
 },
 "nbformat": 4,
 "nbformat_minor": 4
}
